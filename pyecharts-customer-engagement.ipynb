{
 "cells": [
  {
   "cell_type": "markdown",
   "metadata": {},
   "source": [
    "# Setup the env\n",
    "# python2 and pip must be installed before this snippets.\n",
    "# This is just a demo show for customer engagement and far-left bebind the production enviroment."
   ]
  },
  {
   "cell_type": "code",
   "execution_count": null,
   "metadata": {},
   "outputs": [],
   "source": [
    "%%sh\n",
    "pip install pyecharts\n",
    "pip install echarts-countries-pypkg\n",
    "pip install echarts-china-provinces-pypkg\n",
    "pip install echarts-china-cities-pypkg\n",
    "pip install echarts-china-counties-pypkg\n",
    "pip install echarts-china-misc-pypkg"
   ]
  },
  {
   "cell_type": "code",
   "execution_count": null,
   "metadata": {},
   "outputs": [],
   "source": [
    "#coding=utf-8\n",
    "from __future__ import unicode_literals\n",
    "from pyecharts import online\n",
    "\n",
    "online() # needed for online viewing"
   ]
  },
  {
   "cell_type": "code",
   "execution_count": null,
   "metadata": {},
   "outputs": [],
   "source": [
    "from pyecharts import Bar\n",
    "\n",
    "\n",
    "attr = [\"衬衫\", \"羊毛衫\", \"雪纺衫\", \"裤子\", \"高跟鞋\", \"袜子\"]\n",
    "v1 = [5, 20, 36, 10, 75, 90]\n",
    "v2 = [10, 25, 8, 60, 20, 80]\n",
    "bar = Bar(\"柱状图数据堆叠示例\")\n",
    "bar.add(\"商家A\", attr, v1, is_stack=True)\n",
    "bar.add(\"商家B\", attr, v2, is_stack=True)\n",
    "\n",
    "bar"
   ]
  },
  {
   "cell_type": "code",
   "execution_count": null,
   "metadata": {},
   "outputs": [],
   "source": [
    "bar = Bar(\"标记线和标记点示例\")\n",
    "bar.add(\"商家A\", attr, v1, mark_point=[\"average\"])\n",
    "bar.add(\"商家B\", attr, v2, mark_line=[\"min\", \"max\"])\n",
    "\n",
    "bar"
   ]
  },
  {
   "cell_type": "code",
   "execution_count": null,
   "metadata": {},
   "outputs": [],
   "source": [
    "bar = Bar(\"x 轴和 y 轴交换\")\n",
    "bar.add(\"商家A\", attr, v1)\n",
    "bar.add(\"商家B\", attr, v2, is_convert=True)\n",
    "\n",
    "bar"
   ]
  },
  {
   "cell_type": "code",
   "execution_count": null,
   "metadata": {},
   "outputs": [],
   "source": [
    "import random\n",
    "\n",
    "attr = [\"{}天\".format(i) for i in range(30)]\n",
    "v1 = [random.randint(1, 30) for _ in range(30)]\n",
    "bar = Bar(\"Bar - datazoom - slider 示例\")\n",
    "bar.add(\"\", attr, v1, is_label_show=True, is_datazoom_show=True)\n",
    "\n",
    "bar"
   ]
  },
  {
   "cell_type": "code",
   "execution_count": null,
   "metadata": {},
   "outputs": [],
   "source": [
    "attr = [\"{}天\".format(i) for i in range(20)]\n",
    "v1 = [random.randint(1, 20) for _ in range(20)]\n",
    "bar = Bar(\"坐标轴标签旋转示例\")\n",
    "bar.add(\"\", attr, v1, xaxis_interval=0, xaxis_rotate=30, yaxis_rotate=30)\n",
    "\n",
    "bar"
   ]
  },
  {
   "cell_type": "code",
   "execution_count": null,
   "metadata": {},
   "outputs": [],
   "source": [
    "from pyecharts import Bar3D\n",
    "\n",
    "bar3d = Bar3D(\"3D 柱状图示例\", width=1200, height=600)\n",
    "x_axis = [\"12a\", \"1a\", \"2a\", \"3a\", \"4a\", \"5a\", \"6a\", \"7a\", \"8a\", \"9a\", \"10a\", \"11a\",\n",
    "          \"12p\", \"1p\", \"2p\", \"3p\", \"4p\", \"5p\", \"6p\", \"7p\", \"8p\", \"9p\", \"10p\", \"11p\"]\n",
    "y_aixs = [\"Saturday\", \"Friday\", \"Thursday\", \"Wednesday\", \"Tuesday\", \"Monday\", \"Sunday\"]\n",
    "data = [[0, 0, 5], [0, 1, 1], [0, 2, 0], [0, 3, 0], [0, 4, 0], [0, 5, 0], [0, 6, 0], [0, 7, 0],\n",
    "        [0, 8, 0],[0, 9, 0], [0, 10, 0], [0, 11, 2], [0, 12, 4], [0, 13, 1], [0, 14, 1], [0, 15, 3],\n",
    "        [0, 16, 4], [0, 17, 6], [0, 18, 4], [0, 19, 4], [0, 20, 3], [0, 21, 3], [0, 22, 2], [0, 23, 5],\n",
    "        [1, 0, 7], [1, 1, 0], [1, 2, 0], [1, 3, 0], [1, 4, 0], [1, 5, 0], [1, 6, 0], [1, 7, 0], [1, 8, 0],\n",
    "        [1, 9, 0], [1, 10, 5], [1, 11, 2], [1, 12, 2], [1, 13, 6], [1, 14, 9], [1, 15, 11], [1, 16, 6], [1, 17, 7],\n",
    "        [1, 18, 8], [1, 19, 12], [1, 20, 5], [1, 21, 5], [1, 22, 7], [1, 23, 2], [2, 0, 1], [2, 1, 1],\n",
    "        [2, 2, 0], [2, 3, 0], [2, 4, 0], [2, 5, 0], [2, 6, 0], [2, 7, 0], [2, 8, 0], [2, 9, 0], [2, 10, 3],\n",
    "        [2, 11, 2], [2, 12, 1], [2, 13, 9], [2, 14, 8], [2, 15, 10], [2, 16, 6], [2, 17, 5], [2, 18, 5],\n",
    "        [2, 19, 5], [2, 20, 7], [2, 21, 4], [2, 22, 2], [2, 23, 4], [3, 0, 7], [3, 1, 3], [3, 2, 0], [3, 3, 0],\n",
    "        [3, 4, 0], [3, 5, 0], [3, 6, 0], [3, 7, 0], [3, 8, 1], [3, 9, 0], [3, 10, 5], [3, 11, 4], [3, 12, 7],\n",
    "        [3, 13, 14], [3, 14, 13], [3, 15, 12], [3, 16, 9], [3, 17, 5], [3, 18, 5], [3, 19, 10], [3, 20, 6],\n",
    "        [3, 21, 4], [3, 22, 4], [3, 23, 1], [4, 0, 1], [4, 1, 3], [4, 2, 0], [4, 3, 0], [4, 4, 0], [4, 5, 1],\n",
    "        [4, 6, 0], [4, 7, 0], [4, 8, 0], [4, 9, 2], [4, 10, 4], [4, 11, 4], [4, 12, 2], [4, 13, 4], [4, 14, 4],\n",
    "        [4, 15, 14], [4, 16, 12], [4, 17, 1], [4, 18, 8], [4, 19, 5], [4, 20, 3], [4, 21, 7], [4, 22, 3],\n",
    "        [4, 23, 0], [5, 0, 2], [5, 1, 1], [5, 2, 0], [5, 3, 3], [5, 4, 0], [5, 5, 0], [5, 6, 0], [5, 7, 0],\n",
    "        [5, 8, 2], [5, 9, 0], [5, 10, 4], [5, 11, 1], [5, 12, 5], [5, 13, 10], [5, 14, 5], [5, 15, 7], [5, 16, 11],\n",
    "        [5, 17, 6], [5, 18, 0], [5, 19, 5], [5, 20, 3], [5, 21, 4], [5, 22, 2], [5, 23, 0], [6, 0, 1], [6, 1, 0],\n",
    "        [6, 2, 0], [6, 3, 0], [6, 4, 0], [6, 5, 0], [6, 6, 0], [6, 7, 0], [6, 8, 0], [6, 9, 0], [6, 10, 1],\n",
    "        [6, 11, 0], [6, 12, 2], [6, 13, 1], [6, 14, 3], [6, 15, 4], [6, 16, 0], [6, 17, 0], [6, 18, 0], [6, 19, 0],\n",
    "        [6, 20, 1], [6, 21, 2], [6, 22, 2], [6, 23, 6]]\n",
    "range_color = ['#313695', '#4575b4', '#74add1', '#abd9e9', '#e0f3f8', '#ffffbf',\n",
    "               '#fee090', '#fdae61', '#f46d43', '#d73027', '#a50026']\n",
    "bar3d.add(\"\", x_axis, y_aixs, [[d[1], d[0], d[2]] for d in data], is_visualmap=True,\n",
    "          visual_range=[0, 20], visual_range_color=range_color, grid3d_width=200, grid3d_depth=80)\n",
    "\n",
    "bar3d"
   ]
  },
  {
   "cell_type": "code",
   "execution_count": null,
   "metadata": {},
   "outputs": [],
   "source": [
    "from pyecharts import EffectScatter\n",
    "\n",
    "es = EffectScatter(\"动态散点图各种图形示例\")\n",
    "es.add(\"\", [10], [10], symbol_size=20, effect_scale=3.5, effect_period=3, symbol=\"pin\")\n",
    "es.add(\"\", [20], [20], symbol_size=12, effect_scale=4.5, effect_period=4,symbol=\"rect\")\n",
    "es.add(\"\", [30], [30], symbol_size=30, effect_scale=5.5, effect_period=5,symbol=\"roundRect\")\n",
    "es.add(\"\", [40], [40], symbol_size=10, effect_scale=6.5, effect_brushtype='fill',symbol=\"diamond\")\n",
    "es.add(\"\", [50], [50], symbol_size=16, effect_scale=5.5, effect_period=3,symbol=\"arrow\")\n",
    "es.add(\"\", [60], [60], symbol_size=6, effect_scale=2.5, effect_period=3,symbol=\"triangle\")\n",
    "\n",
    "es"
   ]
  },
  {
   "cell_type": "code",
   "execution_count": null,
   "metadata": {},
   "outputs": [],
   "source": [
    "from pyecharts import Funnel\n",
    "\n",
    "attr = [\"衬衫\", \"羊毛衫\", \"雪纺衫\", \"裤子\", \"高跟鞋\", \"袜子\"]\n",
    "value = [20, 40, 60, 80, 100, 120]\n",
    "funnel = Funnel(\"漏斗图示例\")\n",
    "funnel.add(\"商品\", attr, value, is_label_show=True, label_pos=\"inside\", label_text_color=\"#fff\")\n",
    "\n",
    "funnel"
   ]
  },
  {
   "cell_type": "code",
   "execution_count": null,
   "metadata": {},
   "outputs": [],
   "source": [
    "from pyecharts import Gauge\n",
    "\n",
    "gauge = Gauge(\"仪表盘示例\")\n",
    "gauge.add(\"业务指标\", \"完成率\", 66.66)\n",
    "\n",
    "gauge"
   ]
  },
  {
   "cell_type": "code",
   "execution_count": null,
   "metadata": {},
   "outputs": [],
   "source": [
    "from pyecharts import Geo\n",
    "\n",
    "data = [\n",
    "    (\"海门\", 9),(\"鄂尔多斯\", 12),(\"招远\", 12),(\"舟山\", 12),(\"齐齐哈尔\", 14),(\"盐城\", 15),\n",
    "    (\"赤峰\", 16),(\"青岛\", 18),(\"乳山\", 18),(\"金昌\", 19),(\"泉州\", 21),(\"莱西\", 21),\n",
    "    (\"日照\", 21),(\"胶南\", 22),(\"南通\", 23),(\"拉萨\", 24),(\"云浮\", 24),(\"梅州\", 25),\n",
    "    (\"文登\", 25),(\"上海\", 25),(\"攀枝花\", 25),(\"威海\", 25),(\"承德\", 25),(\"厦门\", 26),\n",
    "    (\"汕尾\", 26),(\"潮州\", 26),(\"丹东\", 27),(\"太仓\", 27),(\"曲靖\", 27),(\"烟台\", 28),\n",
    "    (\"福州\", 29),(\"瓦房店\", 30),(\"即墨\", 30),(\"抚顺\", 31),(\"玉溪\", 31),(\"张家口\", 31),\n",
    "    (\"阳泉\", 31),(\"莱州\", 32),(\"湖州\", 32),(\"汕头\", 32),(\"昆山\", 33),(\"宁波\", 33),\n",
    "    (\"湛江\", 33),(\"揭阳\", 34),(\"荣成\", 34),(\"连云港\", 35),(\"葫芦岛\", 35),(\"常熟\", 36),\n",
    "    (\"东莞\", 36),(\"河源\", 36),(\"淮安\", 36),(\"泰州\", 36),(\"南宁\", 37),(\"营口\", 37),\n",
    "    (\"惠州\", 37),(\"江阴\", 37),(\"蓬莱\", 37),(\"韶关\", 38),(\"嘉峪关\", 38),(\"广州\", 38),\n",
    "    (\"延安\", 38),(\"太原\", 39),(\"清远\", 39),(\"中山\", 39),(\"昆明\", 39),(\"寿光\", 40),\n",
    "    (\"盘锦\", 40),(\"长治\", 41),(\"深圳\", 41),(\"珠海\", 42),(\"宿迁\", 43),(\"咸阳\", 43),\n",
    "    (\"铜川\", 44),(\"平度\", 44),(\"佛山\", 44),(\"海口\", 44),(\"江门\", 45),(\"章丘\", 45),\n",
    "    (\"肇庆\", 46),(\"大连\", 47),(\"临汾\", 47),(\"吴江\", 47),(\"石嘴山\", 49),(\"沈阳\", 50),\n",
    "    (\"苏州\", 50),(\"茂名\", 50),(\"嘉兴\", 51),(\"长春\", 51),(\"胶州\", 52),(\"银川\", 52),\n",
    "    (\"张家港\", 52),(\"三门峡\", 53),(\"锦州\", 54),(\"南昌\", 54),(\"柳州\", 54),(\"三亚\", 54),\n",
    "    (\"自贡\", 56),(\"吉林\", 56),(\"阳江\", 57),(\"泸州\", 57),(\"西宁\", 57),(\"宜宾\", 58),\n",
    "    (\"呼和浩特\", 58),(\"成都\", 58),(\"大同\", 58),(\"镇江\", 59),(\"桂林\", 59),(\"张家界\", 59),\n",
    "    (\"宜兴\", 59),(\"北海\", 60),(\"西安\", 61),(\"金坛\", 62),(\"东营\", 62),(\"牡丹江\", 63),\n",
    "    (\"遵义\", 63),(\"绍兴\", 63),(\"扬州\", 64),(\"常州\", 64),(\"潍坊\", 65),(\"重庆\", 66),\n",
    "    (\"台州\", 67),(\"南京\", 67),(\"滨州\", 70),(\"贵阳\", 71),(\"无锡\", 71),(\"本溪\", 71),\n",
    "    (\"克拉玛依\", 72),(\"渭南\", 72),(\"马鞍山\", 72),(\"宝鸡\", 72),(\"焦作\", 75),(\"句容\", 75),\n",
    "    (\"北京\", 79),(\"徐州\", 79),(\"衡水\", 80),(\"包头\", 80),(\"绵阳\", 80),(\"乌鲁木齐\", 84),\n",
    "    (\"枣庄\", 84),(\"杭州\", 84),(\"淄博\", 85),(\"鞍山\", 86),(\"溧阳\", 86),(\"库尔勒\", 86),\n",
    "    (\"安阳\", 90),(\"开封\", 90),(\"济南\", 92),(\"德阳\", 93),(\"温州\", 95),(\"九江\", 96),\n",
    "    (\"邯郸\", 98),(\"临安\", 99),(\"兰州\", 99),(\"沧州\", 100),(\"临沂\", 103),(\"南充\", 104),\n",
    "    (\"天津\", 105),(\"富阳\", 106),(\"泰安\", 112),(\"诸暨\", 112),(\"郑州\", 113),(\"哈尔滨\", 114),\n",
    "    (\"聊城\", 116),(\"芜湖\", 117),(\"唐山\", 119),(\"平顶山\", 119),(\"邢台\", 119),(\"德州\", 120),\n",
    "    (\"济宁\", 120),(\"荆州\", 127),(\"宜昌\", 130),(\"义乌\", 132),(\"丽水\", 133),(\"洛阳\", 134),\n",
    "    (\"秦皇岛\", 136),(\"株洲\", 143),(\"石家庄\", 147),(\"莱芜\", 148),(\"常德\", 152),(\"保定\", 153),\n",
    "    (\"湘潭\", 154),(\"金华\", 157),(\"岳阳\", 169),(\"长沙\", 175),(\"衢州\", 177),(\"廊坊\", 193),\n",
    "    (\"菏泽\", 194),(\"合肥\", 229),(\"武汉\", 273),(\"大庆\", 279)]\n",
    "\n",
    "geo = Geo(\"全国主要城市空气质量\", \"data from pm2.5\", title_color=\"#fff\", title_pos=\"center\",\n",
    "width=1200, height=600, background_color='#404a59')\n",
    "attr, value = geo.cast(data)\n",
    "geo.add(\"\", attr, value, visual_range=[0, 200], visual_text_color=\"#fff\", symbol_size=15, is_visualmap=True)\n",
    "\n",
    "geo"
   ]
  },
  {
   "cell_type": "code",
   "execution_count": null,
   "metadata": {},
   "outputs": [],
   "source": [
    "geo = Geo(\"全国主要城市空气质量\", \"data from pm2.5\", title_color=\"#fff\", title_pos=\"center\", width=1200, height=600,\n",
    "          background_color='#404a59')\n",
    "attr, value = geo.cast(data)\n",
    "geo.add(\"\", attr, value, type=\"heatmap\", is_visualmap=True, visual_range=[0, 300], visual_text_color='#fff')\n",
    "\n",
    "geo"
   ]
  },
  {
   "cell_type": "code",
   "execution_count": null,
   "metadata": {},
   "outputs": [],
   "source": [
    "from pyecharts import Graph\n",
    "\n",
    "nodes = [{\"name\": \"结点1\", \"symbolSize\": 10},\n",
    "         {\"name\": \"结点2\", \"symbolSize\": 20},\n",
    "         {\"name\": \"结点3\", \"symbolSize\": 30},\n",
    "         {\"name\": \"结点4\", \"symbolSize\": 40},\n",
    "         {\"name\": \"结点5\", \"symbolSize\": 50},\n",
    "         {\"name\": \"结点6\", \"symbolSize\": 40},\n",
    "         {\"name\": \"结点7\", \"symbolSize\": 30},\n",
    "         {\"name\": \"结点8\", \"symbolSize\": 20}]\n",
    "links = []\n",
    "for i in nodes:\n",
    "    for j in nodes:\n",
    "        links.append({\"source\": i.get('name'), \"target\": j.get('name')})\n",
    "graph = Graph(\"关系图-力引导布局示例\")\n",
    "graph.add(\"\", nodes, links, repulsion=8000)\n",
    "\n",
    "graph"
   ]
  },
  {
   "cell_type": "code",
   "execution_count": null,
   "metadata": {},
   "outputs": [],
   "source": [
    "from pyecharts import HeatMap\n",
    "\n",
    "x_axis = [\"12a\", \"1a\", \"2a\", \"3a\", \"4a\", \"5a\", \"6a\", \"7a\", \"8a\", \"9a\", \"10a\", \"11a\",\n",
    "          \"12p\", \"1p\", \"2p\", \"3p\", \"4p\", \"5p\", \"6p\", \"7p\", \"8p\", \"9p\", \"10p\", \"11p\"]\n",
    "y_aixs = [\"Saturday\", \"Friday\", \"Thursday\", \"Wednesday\", \"Tuesday\", \"Monday\", \"Sunday\"]\n",
    "data = [[i, j, random.randint(0, 50)] for i in range(24) for j in range(7)]\n",
    "heatmap = HeatMap()\n",
    "heatmap.add(\"热力图直角坐标系\", x_axis, y_aixs, data, is_visualmap=True,\n",
    "            visual_text_color=\"#000\", visual_orient='horizontal')\n",
    "\n",
    "heatmap"
   ]
  },
  {
   "cell_type": "code",
   "execution_count": null,
   "metadata": {},
   "outputs": [],
   "source": [
    "from pyecharts import Kline\n",
    "\n",
    "v1 = [[2320.26, 2320.26, 2287.3, 2362.94], [2300, 2291.3, 2288.26, 2308.38],\n",
    "      [2295.35, 2346.5, 2295.35, 2345.92], [2347.22, 2358.98, 2337.35, 2363.8],\n",
    "      [2360.75, 2382.48, 2347.89, 2383.76], [2383.43, 2385.42, 2371.23, 2391.82],\n",
    "      [2377.41, 2419.02, 2369.57, 2421.15], [2425.92, 2428.15, 2417.58, 2440.38],\n",
    "      [2411, 2433.13, 2403.3, 2437.42], [2432.68, 2334.48, 2427.7, 2441.73],\n",
    "      [2430.69, 2418.53, 2394.22, 2433.89], [2416.62, 2432.4, 2414.4, 2443.03],\n",
    "      [2441.91, 2421.56, 2418.43, 2444.8], [2420.26, 2382.91, 2373.53, 2427.07],\n",
    "      [2383.49, 2397.18, 2370.61, 2397.94], [2378.82, 2325.95, 2309.17, 2378.82],\n",
    "      [2322.94, 2314.16, 2308.76, 2330.88], [2320.62, 2325.82, 2315.01, 2338.78],\n",
    "      [2313.74, 2293.34, 2289.89, 2340.71], [2297.77, 2313.22, 2292.03, 2324.63],\n",
    "      [2322.32, 2365.59, 2308.92, 2366.16], [2364.54, 2359.51, 2330.86, 2369.65],\n",
    "      [2332.08, 2273.4, 2259.25, 2333.54], [2274.81, 2326.31, 2270.1, 2328.14],\n",
    "      [2333.61, 2347.18, 2321.6, 2351.44], [2340.44, 2324.29, 2304.27, 2352.02],\n",
    "      [2326.42, 2318.61, 2314.59, 2333.67], [2314.68, 2310.59, 2296.58, 2320.96],\n",
    "      [2309.16, 2286.6, 2264.83, 2333.29], [2282.17, 2263.97, 2253.25, 2286.33],\n",
    "      [2255.77, 2270.28, 2253.31, 2276.22]]\n",
    "kline = Kline(\"K 线图示例\")\n",
    "kline.add(\"日K\", [\"2017/7/{}\".format(i + 1) for i in range(31)], v1)\n",
    "\n",
    "kline"
   ]
  },
  {
   "cell_type": "code",
   "execution_count": null,
   "metadata": {},
   "outputs": [],
   "source": [
    "from pyecharts import Line\n",
    "\n",
    "attr = [\"衬衫\", \"羊毛衫\", \"雪纺衫\", \"裤子\", \"高跟鞋\", \"袜子\"]\n",
    "v1 = [5, 20, 36, 10, 10, 100]\n",
    "v2 = [55, 60, 16, 20, 15, 80]\n",
    "line = Line(\"折线图示例\")\n",
    "line.add(\"商家A\", attr, v1, mark_point=[\"average\"])\n",
    "line.add(\"商家B\", attr, v2, is_smooth=True, mark_line=[\"max\", \"average\"])\n",
    "\n",
    "line"
   ]
  },
  {
   "cell_type": "code",
   "execution_count": null,
   "metadata": {},
   "outputs": [],
   "source": [
    "line = Line(\"折线图-面积图示例\")\n",
    "line.add(\"商家A\", attr, v1, is_fill=True, line_opacity=0.2, area_opacity=0.4, symbol=None)\n",
    "line.add(\"商家B\", attr, v2, is_fill=True, area_color='#000', area_opacity=0.3, is_smooth=True)\n",
    "\n",
    "line"
   ]
  },
  {
   "cell_type": "code",
   "execution_count": null,
   "metadata": {},
   "outputs": [],
   "source": [
    "from pyecharts import Line3D\n",
    "\n",
    "import math\n",
    "_data = []\n",
    "for t in range(0, 25000):\n",
    "    _t = t / 1000\n",
    "    x = (1 + 0.25 * math.cos(75 * _t)) * math.cos(_t)\n",
    "    y = (1 + 0.25 * math.cos(75 * _t)) * math.sin(_t)\n",
    "    z = _t + 2.0 * math.sin(75 * _t)\n",
    "    _data.append([x, y, z])\n",
    "range_color = ['#313695', '#4575b4', '#74add1', '#abd9e9', '#e0f3f8', '#ffffbf',\n",
    "               '#fee090', '#fdae61', '#f46d43', '#d73027', '#a50026']\n",
    "line3d = Line3D(\"3D 折线图示例\", width=1200, height=600)\n",
    "line3d.add(\"\", _data, is_visualmap=True, visual_range_color=range_color, visual_range=[0, 30],\n",
    "           is_grid3d_rotate=True, grid3d_rotate_speed=180)\n",
    "\n",
    "line3d"
   ]
  },
  {
   "cell_type": "code",
   "execution_count": null,
   "metadata": {},
   "outputs": [],
   "source": [
    "from pyecharts import Liquid\n",
    "\n",
    "liquid = Liquid(\"水球图示例\")\n",
    "liquid.add(\"Liquid\", [0.6, 0.5, 0.4, 0.3], is_liquid_outline_show=False)\n",
    "\n",
    "liquid"
   ]
  },
  {
   "cell_type": "code",
   "execution_count": null,
   "metadata": {},
   "outputs": [],
   "source": [
    "from pyecharts import Map\n",
    "\n",
    "value = [155, 10, 66, 78]\n",
    "attr = [\"福建\", \"山东\", \"北京\", \"上海\"]\n",
    "map = Map(\"全国地图示例\", width=1200, height=600)\n",
    "map.add(\"\", attr, value, maptype='china')\n",
    "\n",
    "map"
   ]
  },
  {
   "cell_type": "code",
   "execution_count": null,
   "metadata": {},
   "outputs": [],
   "source": [
    "from pyecharts import Map\n",
    "\n",
    "value = [20, 190, 253, 77, 65]\n",
    "attr = ['汕头市', '汕尾市', '揭阳市', '阳江市', '肇庆市']\n",
    "map = Map(\"广东地图示例\", width=1200, height=600)\n",
    "map.add(\"\", attr, value, maptype='广东', is_visualmap=True, visual_text_color='#000')\n",
    "\n",
    "map"
   ]
  },
  {
   "cell_type": "code",
   "execution_count": null,
   "metadata": {},
   "outputs": [],
   "source": [
    "value = [95.1, 23.2, 43.3, 66.4, 88.5]\n",
    "attr= [\"China\", \"Canada\", \"Brazil\", \"Russia\", \"United States\"]\n",
    "map = Map(\"世界地图示例\", width=1200, height=600)\n",
    "map.add(\"\", attr, value, maptype=\"world\", is_visualmap=True, visual_text_color='#000')\n",
    "\n",
    "map"
   ]
  },
  {
   "cell_type": "code",
   "execution_count": null,
   "metadata": {},
   "outputs": [],
   "source": [
    "from pyecharts import Parallel\n",
    "\n",
    "schema = [\"data\", \"AQI\", \"PM2.5\", \"PM10\", \"CO\", \"NO2\"]\n",
    "data = [\n",
    "        [1, 91, 45, 125, 0.82, 34],\n",
    "        [2, 65, 27, 78, 0.86, 45,],\n",
    "        [3, 83, 60, 84, 1.09, 73],\n",
    "        [4, 109, 81, 121, 1.28, 68],\n",
    "        [5, 106, 77, 114, 1.07, 55],\n",
    "        [6, 109, 81, 121, 1.28, 68],\n",
    "        [7, 106, 77, 114, 1.07, 55],\n",
    "        [8, 89, 65, 78, 0.86, 51, 26],\n",
    "        [9, 53, 33, 47, 0.64, 50, 17],\n",
    "        [10, 80, 55, 80, 1.01, 75, 24],\n",
    "        [11, 117, 81, 124, 1.03, 45]\n",
    "]\n",
    "parallel = Parallel(\"平行坐标系-默认指示器\")\n",
    "parallel.config(schema) \n",
    "parallel.add(\"parallel\", data, is_random=True)\n",
    "\n",
    "parallel"
   ]
  },
  {
   "cell_type": "code",
   "execution_count": null,
   "metadata": {},
   "outputs": [],
   "source": [
    "from pyecharts import Pie\n",
    "\n",
    "attr = [\"衬衫\", \"羊毛衫\", \"雪纺衫\", \"裤子\", \"高跟鞋\", \"袜子\"]\n",
    "v1 = [11, 12, 13, 10, 10, 10]\n",
    "pie = Pie(\"饼图示例\")\n",
    "pie.add(\"\", attr, v1, is_label_show=True)\n",
    "\n",
    "pie"
   ]
  },
  {
   "cell_type": "code",
   "execution_count": null,
   "metadata": {},
   "outputs": [],
   "source": [
    "attr = [\"衬衫\", \"羊毛衫\", \"雪纺衫\", \"裤子\", \"高跟鞋\", \"袜子\"]\n",
    "v1 = [11, 12, 13, 10, 10, 10]\n",
    "v2 = [19, 21, 32, 20, 20, 33]\n",
    "pie = Pie(\"饼图-玫瑰图示例\", title_pos='center', width=900)\n",
    "pie.add(\"商品A\", attr, v1, center=[25, 50], is_random=True, radius=[30, 75], rosetype='radius')\n",
    "pie.add(\"商品B\", attr, v2, center=[75, 50], is_random=True, radius=[30, 75], rosetype='area',\n",
    "        is_legend_show=False, is_label_show=True)\n",
    "\n",
    "pie"
   ]
  },
  {
   "cell_type": "code",
   "execution_count": null,
   "metadata": {},
   "outputs": [],
   "source": [
    "from pyecharts import Polar\n",
    "\n",
    "import random\n",
    "data = [(i, random.randint(1, 100)) for i in range(101)]\n",
    "polar = Polar(\"极坐标系-散点图示例\")\n",
    "polar.add(\"\", data, boundary_gap=False, type='scatter', is_splitline_show=False,\n",
    "          area_color=None, is_axisline_show=True)\n",
    "\n",
    "polar"
   ]
  },
  {
   "cell_type": "code",
   "execution_count": null,
   "metadata": {},
   "outputs": [],
   "source": [
    "radius = ['周一', '周二', '周三', '周四', '周五', '周六', '周日']\n",
    "polar = Polar(\"极坐标系-堆叠柱状图示例\", width=1200, height=600)\n",
    "polar.add(\"A\", [1, 2, 3, 4, 3, 5, 1], radius_data=radius, type='barRadius', is_stack=True)\n",
    "polar.add(\"B\", [2, 4, 6, 1, 2, 3, 1], radius_data=radius, type='barRadius', is_stack=True)\n",
    "polar.add(\"C\", [1, 2, 3, 4, 1, 2, 5], radius_data=radius, type='barRadius', is_stack=True)\n",
    "\n",
    "polar"
   ]
  },
  {
   "cell_type": "code",
   "execution_count": null,
   "metadata": {},
   "outputs": [],
   "source": [
    "from pyecharts import Radar\n",
    "\n",
    "schema = [ \n",
    "    (\"销售\", 6500), (\"管理\", 16000), (\"信息技术\", 30000), (\"客服\", 38000), (\"研发\", 52000), (\"市场\", 25000)]\n",
    "v1 = [[4300, 10000, 28000, 35000, 50000, 19000]]\n",
    "v2 = [[5000, 14000, 28000, 31000, 42000, 21000]]\n",
    "radar = Radar()\n",
    "radar.config(schema)\n",
    "radar.add(\"预算分配\", v1, is_splitline=True, is_axisline_show=True)\n",
    "radar.add(\"实际开销\", v2, label_color=[\"#4e79a7\"], is_area_show=False, legend_selectedmode='single')\n",
    "\n",
    "radar"
   ]
  },
  {
   "cell_type": "code",
   "execution_count": null,
   "metadata": {},
   "outputs": [],
   "source": [
    "from pyecharts import Scatter\n",
    "\n",
    "v1 = [10, 20, 30, 40, 50, 60]\n",
    "v2 = [10, 20, 30, 40, 50, 60]\n",
    "scatter = Scatter(\"散点图示例\")\n",
    "scatter.add(\"A\", v1, v2)\n",
    "scatter.add(\"B\", v1[::-1], v2)\n",
    "\n",
    "scatter"
   ]
  },
  {
   "cell_type": "code",
   "execution_count": null,
   "metadata": {},
   "outputs": [],
   "source": [
    "scatter = Scatter(\"散点图示例\")\n",
    "scatter.add(\"A\", [\"a\", \"b\", \"c\", \"d\", \"e\", \"f\"], v2)\n",
    "scatter.add(\"B\", [\"a\", \"b\", \"c\", \"d\", \"e\", \"f\"], v1[::-1], xaxis_type=\"category\")\n",
    "\n",
    "scatter"
   ]
  },
  {
   "cell_type": "code",
   "execution_count": null,
   "metadata": {},
   "outputs": [],
   "source": [
    "from pyecharts import Scatter3D\n",
    "\n",
    "import random\n",
    "data = [[random.randint(0, 100), random.randint(0, 100), random.randint(0, 100)] for _ in range(80)]\n",
    "range_color = ['#313695', '#4575b4', '#74add1', '#abd9e9', '#e0f3f8', '#ffffbf',\n",
    "               '#fee090', '#fdae61', '#f46d43', '#d73027', '#a50026']\n",
    "scatter3D = Scatter3D(\"3D 散点图示例\", width=1200, height=600)\n",
    "scatter3D.add(\"\", data, is_visualmap=True, visual_range_color=range_color)\n",
    "\n",
    "scatter3D"
   ]
  },
  {
   "cell_type": "code",
   "execution_count": null,
   "metadata": {},
   "outputs": [],
   "source": [
    "from pyecharts import WordCloud\n",
    "\n",
    "name = ['Sam S Club', 'Macys', 'Amy Schumer', 'Jurassic World', 'Charter Communications',\n",
    "        'Chick Fil A', 'Planet Fitness', 'Pitch Perfect', 'Express', 'Home', 'Johnny Depp',\n",
    "        'Lena Dunham', 'Lewis Hamilton', 'KXAN', 'Mary Ellen Mark', 'Farrah Abraham',\n",
    "        'Rita Ora', 'Serena Williams', 'NCAA baseball tournament', 'Point Break']\n",
    "value = [10000, 6181, 4386, 4055, 2467, 2244, 1898, 1484, 1112, 965, 847, 582, 555,\n",
    "         550, 462, 366, 360, 282, 273, 265]\n",
    "wordcloud = WordCloud(width=1300, height=620)\n",
    "wordcloud.add(\"\", name, value, word_size_range=[20, 100])\n",
    "\n",
    "wordcloud"
   ]
  },
  {
   "cell_type": "code",
   "execution_count": null,
   "metadata": {},
   "outputs": [],
   "source": [
    "from pyecharts import Bar, Line, Scatter, EffectScatter, Grid  \n",
    "\n",
    "attr = [\"衬衫\", \"羊毛衫\", \"雪纺衫\", \"裤子\", \"高跟鞋\", \"袜子\"]\n",
    "v1 = [5, 20, 36, 10, 75, 90]\n",
    "v2 = [10, 25, 8, 60, 20, 80]\n",
    "bar = Bar(\"柱状图示例\", height=720, width=1200, title_pos=\"65%\")\n",
    "bar.add(\"商家A\", attr, v1, is_stack=True)\n",
    "bar.add(\"商家B\", attr, v2, is_stack=True, legend_pos=\"80%\")\n",
    "line = Line(\"折线图示例\")\n",
    "attr = ['周一', '周二', '周三', '周四', '周五', '周六', '周日']\n",
    "line.add(\"最高气温\", attr, [11, 11, 15, 13, 12, 13, 10], mark_point=[\"max\", \"min\"], mark_line=[\"average\"])\n",
    "line.add(\"最低气温\", attr, [1, -2, 2, 5, 3, 2, 0], mark_point=[\"max\", \"min\"],\n",
    "         mark_line=[\"average\"], legend_pos=\"20%\")\n",
    "v1 = [5, 20, 36, 10, 75, 90]\n",
    "v2 = [10, 25, 8, 60, 20, 80]\n",
    "scatter = Scatter(\"散点图示例\", title_top=\"50%\", title_pos=\"65%\")\n",
    "scatter.add(\"scatter\", v1, v2, legend_top=\"50%\", legend_pos=\"80%\")\n",
    "es = EffectScatter(\"动态散点图示例\", title_top=\"50%\")\n",
    "es.add(\"es\", [11, 11, 15, 13, 12, 13, 10], [1, -2, 2, 5, 3, 2, 0], effect_scale=6,\n",
    "        legend_top=\"50%\", legend_pos=\"20%\")\n",
    "\n",
    "grid = Grid()\n",
    "grid.add(bar, grid_bottom=\"60%\", grid_left=\"60%\")\n",
    "grid.add(line, grid_bottom=\"60%\", grid_right=\"60%\")\n",
    "grid.add(scatter, grid_top=\"60%\", grid_left=\"60%\")\n",
    "grid.add(es, grid_top=\"60%\", grid_right=\"60%\")\n",
    "\n",
    "grid"
   ]
  },
  {
   "cell_type": "code",
   "execution_count": null,
   "metadata": {},
   "outputs": [],
   "source": [
    "from pyecharts import Bar, Line, Overlap\n",
    "\n",
    "attr = ['A', 'B', 'C', 'D', 'E', 'F']\n",
    "v1 = [10, 20, 30, 40, 50, 60]\n",
    "v2 = [38, 28, 58, 48, 78, 68]\n",
    "bar = Bar(\"Line - Bar 示例\")\n",
    "bar.add(\"bar\", attr, v1)\n",
    "line = Line()\n",
    "line.add(\"line\", attr, v2)\n",
    "\n",
    "overlap = Overlap()\n",
    "overlap.add(bar)\n",
    "overlap.add(line)\n",
    "\n",
    "overlap"
   ]
  },
  {
   "cell_type": "code",
   "execution_count": null,
   "metadata": {},
   "outputs": [],
   "source": [
    "from pyecharts import Bar, Timeline\n",
    "\n",
    "from random import randint\n",
    "\n",
    "attr = [\"衬衫\", \"羊毛衫\", \"雪纺衫\", \"裤子\", \"高跟鞋\", \"袜子\"]\n",
    "bar_1 = Bar(\"2012 年销量\", \"数据纯属虚构\")\n",
    "bar_1.add(\"春季\", attr, [randint(10, 100) for _ in range(6)])\n",
    "bar_1.add(\"夏季\", attr, [randint(10, 100) for _ in range(6)])\n",
    "bar_1.add(\"秋季\", attr, [randint(10, 100) for _ in range(6)])\n",
    "bar_1.add(\"冬季\", attr, [randint(10, 100) for _ in range(6)])\n",
    "\n",
    "bar_2 = Bar(\"2013 年销量\", \"数据纯属虚构\")\n",
    "bar_2.add(\"春季\", attr, [randint(10, 100) for _ in range(6)])\n",
    "bar_2.add(\"夏季\", attr, [randint(10, 100) for _ in range(6)])\n",
    "bar_2.add(\"秋季\", attr, [randint(10, 100) for _ in range(6)])\n",
    "bar_2.add(\"冬季\", attr, [randint(10, 100) for _ in range(6)])\n",
    "\n",
    "bar_3 = Bar(\"2014 年销量\", \"数据纯属虚构\")\n",
    "bar_3.add(\"春季\", attr, [randint(10, 100) for _ in range(6)])\n",
    "bar_3.add(\"夏季\", attr, [randint(10, 100) for _ in range(6)])\n",
    "bar_3.add(\"秋季\", attr, [randint(10, 100) for _ in range(6)])\n",
    "bar_3.add(\"冬季\", attr, [randint(10, 100) for _ in range(6)])\n",
    "\n",
    "bar_4 = Bar(\"2015 年销量\", \"数据纯属虚构\")\n",
    "bar_4.add(\"春季\", attr, [randint(10, 100) for _ in range(6)])\n",
    "bar_4.add(\"夏季\", attr, [randint(10, 100) for _ in range(6)])\n",
    "bar_4.add(\"秋季\", attr, [randint(10, 100) for _ in range(6)])\n",
    "bar_4.add(\"冬季\", attr, [randint(10, 100) for _ in range(6)])\n",
    "\n",
    "bar_5 = Bar(\"2016 年销量\", \"数据纯属虚构\")\n",
    "bar_5.add(\"春季\", attr, [randint(10, 100) for _ in range(6)])\n",
    "bar_5.add(\"夏季\", attr, [randint(10, 100) for _ in range(6)])\n",
    "bar_5.add(\"秋季\", attr, [randint(10, 100) for _ in range(6)])\n",
    "bar_5.add(\"冬季\", attr, [randint(10, 100) for _ in range(6)], is_legend_show=True)\n",
    "\n",
    "timeline = Timeline(is_auto_play=True, timeline_bottom=0)\n",
    "timeline.add(bar_1, '2012 年')\n",
    "timeline.add(bar_2, '2013 年')\n",
    "timeline.add(bar_3, '2014 年')\n",
    "timeline.add(bar_4, '2015 年')\n",
    "timeline.add(bar_5, '2016 年')\n",
    "\n",
    "timeline"
   ]
  },
  {
   "cell_type": "code",
   "execution_count": null,
   "metadata": {},
   "outputs": [],
   "source": []
  }
 ],
 "metadata": {
  "kernelspec": {
   "display_name": "conda_python2",
   "language": "python",
   "name": "conda_python2"
  },
  "language_info": {
   "codemirror_mode": {
    "name": "ipython",
    "version": 2
   },
   "file_extension": ".py",
   "mimetype": "text/x-python",
   "name": "python",
   "nbconvert_exporter": "python",
   "pygments_lexer": "ipython2",
   "version": "2.7.15"
  }
 },
 "nbformat": 4,
 "nbformat_minor": 1
}
